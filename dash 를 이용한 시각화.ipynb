{
 "cells": [
  {
   "cell_type": "code",
   "execution_count": 1,
   "metadata": {},
   "outputs": [
    {
     "ename": "NameError",
     "evalue": "name 'dash' is not defined",
     "output_type": "error",
     "traceback": [
      "\u001b[1;31m---------------------------------------------------------------------------\u001b[0m",
      "\u001b[1;31mNameError\u001b[0m                                 Traceback (most recent call last)",
      "\u001b[1;32m<ipython-input-1-f663cea7b88b>\u001b[0m in \u001b[0;36m<module>\u001b[1;34m\u001b[0m\n\u001b[1;32m----> 1\u001b[1;33m \u001b[0mapp\u001b[0m \u001b[1;33m=\u001b[0m \u001b[0mdash\u001b[0m\u001b[1;33m.\u001b[0m\u001b[0mDash\u001b[0m\u001b[1;33m(\u001b[0m\u001b[0m__name__\u001b[0m\u001b[1;33m)\u001b[0m\u001b[1;33m\u001b[0m\u001b[1;33m\u001b[0m\u001b[0m\n\u001b[0m\u001b[0;32m      2\u001b[0m \u001b[1;33m\u001b[0m\u001b[0m\n\u001b[0;32m      3\u001b[0m \u001b[1;31m# ---------- Import and clean data (importing csv into pandas)\u001b[0m\u001b[1;33m\u001b[0m\u001b[1;33m\u001b[0m\u001b[1;33m\u001b[0m\u001b[0m\n\u001b[0;32m      4\u001b[0m \u001b[1;31m# df = pd.read_csv(\"intro_bees.csv\")\u001b[0m\u001b[1;33m\u001b[0m\u001b[1;33m\u001b[0m\u001b[1;33m\u001b[0m\u001b[0m\n\u001b[0;32m      5\u001b[0m \u001b[0mdf\u001b[0m \u001b[1;33m=\u001b[0m \u001b[0mpd\u001b[0m\u001b[1;33m.\u001b[0m\u001b[0mread_csv\u001b[0m\u001b[1;33m(\u001b[0m\u001b[1;34m\"https://raw.githubusercontent.com/Coding-with-Adam/Dash-by-Plotly/master/Other/Dash_Introduction/intro_bees.csv\"\u001b[0m\u001b[1;33m)\u001b[0m\u001b[1;33m\u001b[0m\u001b[1;33m\u001b[0m\u001b[0m\n",
      "\u001b[1;31mNameError\u001b[0m: name 'dash' is not defined"
     ]
    }
   ],
   "source": [
    "app=dash.Dash(__name__)\n",
    "\n",
    "app.layout=html.Div([\n",
    "    html.H1('your Restaurant result',style={'text-align':'center'}),\n",
    "    html.Br(),\n",
    "    html.Div(className='row',children=[html.H4('select city name'),\n",
    "                                       dcc.Dropdown(id='city_name',\n",
    "                                                   options=[{'label':i,'value':i} for i in data['city'].unique()],\n",
    "                                                   multi=False,\n",
    "                                                   value=data['city'].unique()[0],style={'width':'30%'}),\n",
    "                                       dcc.Dropdown(id='number',\n",
    "                                                    options=[{'label':i,'value':i} for i in number],\n",
    "                                                    multi=False,\n",
    "                                                    value=number[0],\n",
    "                                                    style={'width':'30%'}),\n",
    "                                       dcc.Graph(id='my_data',figure={})]),\n",
    "    #dcc.Dropdown(id='city_name',\n",
    "    #            options=[{'label':i,'value':i} for i in data['city'].unique()],\n",
    "    #            multi=False,\n",
    "    #            value=data['city'].unique()[0],\n",
    "    #            style={'width':'30%'}),\n",
    "    html.Br(),\n",
    "    \n",
    "    html.Div(id='나도몰라',children=[]),\n",
    "    html.Br(),\n",
    "    #dcc.Graph(id='my_data',figure={})\n",
    "])\n",
    "\n",
    "\n",
    "\n",
    "def created_data(city_name,number):\n",
    "    data2=data.copy()\n",
    "    inde=((data2['city']==city_name))\n",
    "    inde=inde.index\n",
    "    data2=data2.loc[inde,[number,'franchise']]\n",
    "    return data2\n",
    "\n",
    "def update_graph(data,city_name,number):\n",
    "    fig=px.box(data,y=str(number),color='franchise')\n",
    "    return fig\n",
    "    \n",
    "#callback 하기전에 전처리 함수는 미리 만들어놓자\n",
    "\n",
    "@app.callback(Output(component_id='my_data', component_property='figure'),\n",
    "    [Input(component_id='city_name', component_property='value'),\n",
    "     Input(component_id='number',component_property='value')]\n",
    "             )\n",
    "\n",
    "def update_plot_new_metrics(city_name,number):\n",
    "    information=created_data(city_name,number)\n",
    "    return update_graph(information,city_name,number)\n",
    "\n",
    "\n",
    "#각기 다른 시각화하고 싶고, 인풋값이 다르면 app.callback 을 따로 써주기    \n",
    "\n",
    "\n",
    "\n",
    "\n",
    "if __name__ == '__main__':\n",
    "    app.run_server(debug=False)\n",
    "    \n",
    "    \n",
    "#div 는 양동이 역할로 담을 부분을 children 으로 나누어 지게한다\n",
    "# 보통 H 계열들은 제목으로 많이 사용됨\n",
    "\n",
    "#input id 하고 출력될 상표는 정확히 지정해놔야한다"
   ]
  }
 ],
 "metadata": {
  "colab": {
   "name": "colab_13_Boston.ipynb",
   "provenance": []
  },
  "kernelspec": {
   "display_name": "Python 3",
   "language": "python",
   "name": "python3"
  },
  "language_info": {
   "codemirror_mode": {
    "name": "ipython",
    "version": 3
   },
   "file_extension": ".py",
   "mimetype": "text/x-python",
   "name": "python",
   "nbconvert_exporter": "python",
   "pygments_lexer": "ipython3",
   "version": "3.7.8"
  }
 },
 "nbformat": 4,
 "nbformat_minor": 1
}
